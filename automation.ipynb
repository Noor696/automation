{
 "cells": [
  {
   "cell_type": "code",
   "execution_count": null,
   "metadata": {},
   "outputs": [],
   "source": [
    "import pandas as pd"
   ]
  },
  {
   "cell_type": "code",
   "execution_count": null,
   "metadata": {},
   "outputs": [],
   "source": [
    "# read the data\n",
    "df = pd.read_csv(\"daily_report_python.csv\")\n",
    "df_attendance = pd.read_csv(\"attendance.csv\")"
   ]
  },
  {
   "cell_type": "code",
   "execution_count": null,
   "metadata": {},
   "outputs": [],
   "source": [
    "df_1 , df_2 = df[:1] , df[1:]\n",
    "print(df_1)"
   ]
  },
  {
   "cell_type": "code",
   "execution_count": null,
   "metadata": {},
   "outputs": [],
   "source": [
    "meeting_duration =df_1[\"Duration (Minutes)\"][0]\n",
    "meeting_duration = int(meeting_duration)\n",
    "#print(type(meet_duration)) # the type is str then we should convert to int\n",
    "#print(meet_duration)"
   ]
  },
  {
   "cell_type": "code",
   "execution_count": null,
   "metadata": {},
   "outputs": [],
   "source": [
    "# the one diff. between all reports for each days is a time (date and hour)\n",
    "# becuse that the meeting ID is Tima\n",
    "meeting_ID = df_1[\"Meeting ID\"][0]\n",
    "print(meeting_ID)\n",
    "print(type(meeting_ID))  # String"
   ]
  },
  {
   "cell_type": "code",
   "execution_count": null,
   "metadata": {},
   "outputs": [],
   "source": [
    "# we need to work on table 2\n",
    "# we need to prepering the data on table2\n",
    "df_2.columns = df_2.iloc[0]\n",
    "df_2.drop(df_2.index[0], inplace = True) #drop : to delete duplicate rows , I delete one of them\n",
    "print(df_2)"
   ]
  },
  {
   "cell_type": "code",
   "execution_count": null,
   "metadata": {},
   "outputs": [],
   "source": [
    "# I want to create new a column to add just student ID \n",
    "# Get student ID\n",
    "# use regex to validate input on form ex:(number, url, email)\n",
    "# ^[0-9]* --> this mean: just select for me the email that start with the numbers and don't stop keep going as long as this condition is correct (which is a number)\n",
    "# can try any thing in regular expression on websit (regex101.com)\n",
    "# ---------------------\n",
    "# I converted to string because the data type is an object\n",
    "# I call the method name (extract), and give it the pattern and I pass my regular expression as a value\n",
    "\n",
    "df_2[\"Student ID\"] = df_2[\"User Email\"].str.extract(pat='^[0-9]*')\n",
    "# print(df_2[\"Student ID\"])"
   ]
  },
  {
   "cell_type": "code",
   "execution_count": null,
   "metadata": {},
   "outputs": [],
   "source": [
    "# sum total of time for each student\n",
    "# I use the astype method to convert to int because I have a series data type\n",
    "df_2[\"Total\"] = df_2[\"Duration (Minutes)\"].astype(int) # Series\n",
    "\n",
    "df_2 = df_2.groupby(\"Student ID\", as_index = False).sum(numeric_only= True) \n",
    "\n",
    "print(df_2)\n",
    "# print(df_2.info())\n",
    "# I want to split student ID column and total column by add (as_index = False) on groupby method"
   ]
  },
  {
   "cell_type": "code",
   "execution_count": null,
   "metadata": {},
   "outputs": [],
   "source": [
    "# Status\n",
    "df_2[\"Status\"] = [\"Present\" if x >= meeting_duration-10 else \"Absent\" if x < meeting_duration -20 else \"late\" for x in df_2[\"Total\"]]\n",
    "\n",
    "print(df_2)"
   ]
  },
  {
   "cell_type": "code",
   "execution_count": null,
   "metadata": {},
   "outputs": [],
   "source": [
    "# Add daily report in a new column"
   ]
  },
  {
   "cell_type": "code",
   "execution_count": null,
   "metadata": {},
   "outputs": [],
   "source": [
    "df_attendance[meeting_ID] = df_2[\"Status\"]\n",
    "df_attendance[\"Student ID\"] = df_2[\"Student ID\"]\n",
    "\n",
    "df_attendance.to_csv(\"attendance.csv\")\n",
    "print(df_attendance)"
   ]
  }
 ],
 "metadata": {
  "kernelspec": {
   "display_name": "Python 3.9.5 64-bit ('3.9.5')",
   "language": "python",
   "name": "python3"
  },
  "language_info": {
   "name": "python",
   "version": "3.9.5"
  },
  "orig_nbformat": 4,
  "vscode": {
   "interpreter": {
    "hash": "076585f7197dc7584439f84a427882bae1149a033002da568261959001b4649f"
   }
  }
 },
 "nbformat": 4,
 "nbformat_minor": 2
}
